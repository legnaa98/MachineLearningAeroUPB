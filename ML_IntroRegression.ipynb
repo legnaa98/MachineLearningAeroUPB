{
 "cells": [
  {
   "cell_type": "markdown",
   "metadata": {},
   "source": [
    "# Linear Regression through Machine Learning\n",
    "## Package importing"
   ]
  },
  {
   "cell_type": "code",
   "execution_count": 130,
   "metadata": {},
   "outputs": [],
   "source": [
    "%matplotlib inline\n",
    "from numpy import *\n",
    "import matplotlib.pyplot as plt\n",
    "from sklearn.datasets import make_regression"
   ]
  },
  {
   "cell_type": "markdown",
   "metadata": {},
   "source": [
    "## Data Pre Processing"
   ]
  },
  {
   "cell_type": "code",
   "execution_count": 131,
   "metadata": {},
   "outputs": [
    {
     "data": {
      "text/plain": [
       "<matplotlib.collections.PathCollection at 0x209d52c4d30>"
      ]
     },
     "execution_count": 131,
     "metadata": {},
     "output_type": "execute_result"
    },
    {
     "data": {
      "image/png": "[encoded data removed]",
      "text/plain": [
       "<matplotlib.figure.Figure at 0x209d547d828>"
      ]
     },
     "metadata": {},
     "output_type": "display_data"
    }
   ],
   "source": [
    "x, y = make_regression(n_samples=50, n_features=1, noise=10)\n",
    "m, n = shape(x)\n",
    "\n",
    "y = reshape(y, (m,1))\n",
    "plt.scatter(x,y,color='r')"
   ]
  },
  {
   "cell_type": "markdown",
   "metadata": {},
   "source": [
    "## Define important variables before learning process"
   ]
  },
  {
   "cell_type": "code",
   "execution_count": 145,
   "metadata": {},
   "outputs": [],
   "source": [
    "alpha = 0.5\n",
    "numIters = 1\n",
    "maxIters = 100\n",
    "\n",
    "X = ones([m,2])\n",
    "X[:,1] = x[:,0]\n",
    "m, n = shape(X)\n",
    "theta = random.random_sample((1,n))"
   ]
  },
  {
   "cell_type": "markdown",
   "metadata": {},
   "source": [
    "## Now the real ML process"
   ]
  },
  {
   "cell_type": "code",
   "execution_count": 151,
   "metadata": {},
   "outputs": [],
   "source": [
    "def costFunct(X,y,theta):\n",
    "    m, n = shape(X)\n",
    "    \n",
    "    hTheta = sum(multiply(theta,X), axis=1)\n",
    "    hTheta = reshape(hTheta,(m,1)) # because the vector hTheta is unrolled in a \n",
    "                                    # row vector and we need it as a coumn vector\n",
    "    Q = subtract(hTheta,y)\n",
    "    \n",
    "    J = (1/(2*m))*sum(power( Q, 2 ),axis=0)\n",
    "    \n",
    "    grad = zeros(shape(theta))\n",
    "    grad = multiply(1/m, matmul(transpose(Q),X))\n",
    "    #print(grad)\n",
    "    \n",
    "    \n",
    "    return(J, grad,hTheta) \n",
    "\n",
    "def gradDescent(grad, theta_old, alpha, y):\n",
    "    \n",
    "    m, n =  shape(y)\n",
    "    \n",
    "    theta_new = subtract(theta_old, multiply(alpha,grad))\n",
    "    return(theta_new)"
   ]
  },
  {
   "cell_type": "code",
   "execution_count": 157,
   "metadata": {},
   "outputs": [
    {
     "name": "stdout",
     "output_type": "stream",
     "text": [
      "[[ 4.14088518 62.75832643]]\n"
     ]
    }
   ],
   "source": [
    "Jtrack = []\n",
    "\n",
    "while numIters <= maxIters:\n",
    "    J, grad, hTheta = costFunct(X,y,theta)\n",
    "    theta = gradDescent(grad, theta, alpha, y)\n",
    "    \n",
    "    numIters += 1\n",
    "    Jtrack.append(J)\n",
    "print(theta)"
   ]
  },
  {
   "cell_type": "code",
   "execution_count": 167,
   "metadata": {},
   "outputs": [
    {
     "data": {
      "text/plain": [
       "<matplotlib.figure.Figure at 0x209d6bf1358>"
      ]
     },
     "execution_count": 167,
     "metadata": {},
     "output_type": "execute_result"
    },
    {
     "data": {
      "image/png": "[encoded data removed]",
      "text/plain": [
       "<matplotlib.figure.Figure at 0x209d6a5b390>"
      ]
     },
     "metadata": {},
     "output_type": "display_data"
    },
    {
     "data": {
      "text/plain": [
       "<matplotlib.figure.Figure at 0x209d6bf1358>"
      ]
     },
     "metadata": {},
     "output_type": "display_data"
    }
   ],
   "source": [
    "plt.scatter(x,y,color='r')\n",
    "plt.plot(x,hTheta,'k-')\n",
    "plt.figure()"
   ]
  },
  {
   "cell_type": "code",
   "execution_count": 156,
   "metadata": {},
   "outputs": [
    {
     "name": "stdout",
     "output_type": "stream",
     "text": [
      "[]\n"
     ]
    }
   ],
   "source": [
    "print(Jtrack)"
   ]
  },
  {
   "cell_type": "code",
   "execution_count": null,
   "metadata": {},
   "outputs": [],
   "source": []
  }
 ],
 "metadata": {
  "kernelspec": {
   "display_name": "Python 3",
   "language": "python",
   "name": "python3"
  },
  "language_info": {
   "codemirror_mode": {
    "name": "ipython",
    "version": 3
   },
   "file_extension": ".py",
   "mimetype": "text/x-python",
   "name": "python",
   "nbconvert_exporter": "python",
   "pygments_lexer": "ipython3",
   "version": "3.7.2"
  }
 },
 "nbformat": 4,
 "nbformat_minor": 2
}
