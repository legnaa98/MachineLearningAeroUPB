{
 "cells": [
  {
   "cell_type": "code",
   "execution_count": 17,
   "metadata": {},
   "outputs": [],
   "source": [
    "%matplotlib inline\n",
    "\n",
    "import matplotlib.pyplot as plt\n",
    "from numpy import *\n",
    "import pandas as pd\n",
    "from sklearn.datasets.samples_generator import make_blobs"
   ]
  },
  {
   "cell_type": "markdown",
   "metadata": {},
   "source": [
    "## Getting the dataset\n",
    "Mushroom classification"
   ]
  },
  {
   "cell_type": "markdown",
   "metadata": {},
   "source": [
    "https://www.kaggle.com/uciml/mushroom-classification/version/1"
   ]
  },
  {
   "cell_type": "code",
   "execution_count": 220,
   "metadata": {},
   "outputs": [
    {
     "data": {
      "text/plain": [
       "<matplotlib.collections.PathCollection at 0x7fc5fe386080>"
      ]
     },
     "execution_count": 220,
     "metadata": {},
     "output_type": "execute_result"
    },
    {
     "data": {
      "image/png": "[encoded data removed]",
      "text/plain": [
       "<Figure size 432x288 with 1 Axes>"
      ]
     },
     "metadata": {
      "needs_background": "light"
     },
     "output_type": "display_data"
    }
   ],
   "source": [
    "X, y = make_blobs(n_samples=100, n_features=2, centers=2)\n",
    "\n",
    "# examine the data\n",
    "plt.scatter(X[:,0],X[:,1])"
   ]
  },
  {
   "cell_type": "code",
   "execution_count": 221,
   "metadata": {},
   "outputs": [],
   "source": [
    "from sklearn.model_selection import train_test_split\n",
    "\n",
    "X_train,X_test, y_train, y_test = train_test_split(X, y, test_size=0.4,train_size=0.6)\n",
    "\n",
    "\n",
    "m, n = shape(X_train) # extract the number of m samples and n features\n",
    "y_train.shape = (m,1) # adjust y_train dataset shape\n",
    "Niters = 100\n",
    "\n",
    "# randomely initialize theta\n",
    "theta = random.rand(n,1)"
   ]
  },
  {
   "cell_type": "code",
   "execution_count": 222,
   "metadata": {},
   "outputs": [],
   "source": [
    "def sigmoid(z):\n",
    "    \n",
    "    return( divide(1, 1 + power(e,-z)) )\n",
    "    \n",
    "def cost(X, y, theta, m, n, L):\n",
    "    ''' \n",
    "    X: features matrix\n",
    "    y: target vector\n",
    "    theta: parameters\n",
    "    m: number of samples\n",
    "    n: number of features\n",
    "    L: regularization parameter lambda\n",
    "    '''\n",
    "    \n",
    "    if size(X,1) == size(theta,0):\n",
    "        thetaTX = matmul(X, theta)\n",
    "    else:\n",
    "        X.shape = (m,n)\n",
    "        thetaTX = matmul(X, theta)\n",
    "        \n",
    "    h = sigmoid( thetaTX )\n",
    "    \n",
    "    if size(h,0) == size(y,0):\n",
    "        cost = -y*log(h)-(1-y)*log(1-h)\n",
    "        return( -1/m * sum(cost, axis=0) + L/(2*m) * sum(theta, axis=0), h)\n",
    "    else:\n",
    "        h.shape = (m,1)\n",
    "        cost = -y*log(h)-(1-y)*log(1-h)\n",
    "        return( -1/m * sum(cost, axis=0) + L/(2*m) * sum(theta, axis=0), h )\n",
    "        \n",
    "def gradient(X, y, theta, m, n, L, hyp):\n",
    "        \n",
    "    Q = subtract(hyp,y) # substitution for better comprehension\n",
    "    grad = 1/m * ( matmul(transpose(X), Q) ) + L/m * theta\n",
    "    grad[0,0] = 1/m * ( matmul(transpose(X[:,0]), Q) )\n",
    "    return( grad )\n",
    "\n",
    "def gradDescent(grad, theta_old, alpha, y):\n",
    "    \n",
    "    m, n =  shape(y)\n",
    "    \n",
    "    theta_new = subtract(theta_old, multiply(alpha,grad))\n",
    "    return(theta_new)"
   ]
  },
  {
   "cell_type": "code",
   "execution_count": 252,
   "metadata": {},
   "outputs": [],
   "source": [
    "L = 1 # regularization parameter\n",
    "alpha = 0.01\n",
    "\n",
    "for n in range(Niters):\n",
    "    \n",
    "    J, hTheta = cost(X_train, y_train, theta, m, n, L)\n",
    "    grad = gradient(X_train, y_train, theta, m, n, L, hTheta)\n",
    "    theta = gradDescent(grad, theta, alpha, y_train)"
   ]
  },
  {
   "cell_type": "code",
   "execution_count": 253,
   "metadata": {},
   "outputs": [
    {
     "name": "stdout",
     "output_type": "stream",
     "text": [
      "[[1 2]\n",
      " [3 4]\n",
      " [5 6]]\n",
      "[[10 11]]\n"
     ]
    },
    {
     "data": {
      "text/plain": [
       "array([[ 32],\n",
       "       [ 74],\n",
       "       [116]])"
      ]
     },
     "execution_count": 253,
     "metadata": {},
     "output_type": "execute_result"
    }
   ],
   "source": [
    "v = array([[1,2],[3,4],[5,6]])\n",
    "w = array([[10,11]])\n",
    "\n",
    "print(v)\n",
    "print(w)\n",
    "matmul(v,transpose(w))\n"
   ]
  },
  {
   "cell_type": "code",
   "execution_count": 254,
   "metadata": {},
   "outputs": [],
   "source": [
    "def postproc(y_test, y_predict):\n",
    "    TP = 0\n",
    "    FP = 0\n",
    "    FN = 0\n",
    "    TN = 0\n",
    "    for i in range(size(y_test,0)):\n",
    "        if ( y_test[i] == 1) and (y_predict[i] == 1):\n",
    "            TP += 1\n",
    "        elif ( y_test[i] == 0) and (y_predict[i] == 1):\n",
    "            FP += 1\n",
    "        elif ( y_test[i] == 1) and (y_predict[i] == 0):\n",
    "            FN += 1\n",
    "        elif ( y_test[i] == 0) and (y_predict[i] == 0):\n",
    "            TN += 1\n",
    "    acc = (TP + TN) / size(y_test,0)\n",
    "    prec = TP / (TP + FP)\n",
    "    recall = (TP) / (TP + FN)\n",
    "    \n",
    "    return( acc, prec, recall, TP, FP, FN, TN )"
   ]
  },
  {
   "cell_type": "code",
   "execution_count": 255,
   "metadata": {},
   "outputs": [
    {
     "name": "stdout",
     "output_type": "stream",
     "text": [
      "Accuracy: \n",
      " 0.975\n",
      "Precision: \n",
      " 1.0\n",
      "Recall: \n",
      " 0.9629629629629629\n"
     ]
    }
   ],
   "source": [
    "y_predict = sigmoid(matmul(X_test, theta))\n",
    "\n",
    "for i in range(len(y_test)):\n",
    "    if y_predict[i] >= 0.5:\n",
    "        y_predict[i] = 1\n",
    "    else:\n",
    "        y_predict[i] = 0\n",
    "\n",
    "acc, prec, recall, TP, FP, FN, TN = postproc(y_test, y_predict)\n",
    "\n",
    "print('Accuracy: \\n', acc)\n",
    "print('Precision: \\n', prec)\n",
    "print('Recall: \\n', recall)"
   ]
  },
  {
   "cell_type": "code",
   "execution_count": 256,
   "metadata": {},
   "outputs": [
    {
     "data": {
      "text/plain": [
       "<matplotlib.collections.PathCollection at 0x7fc5fde10240>"
      ]
     },
     "execution_count": 256,
     "metadata": {},
     "output_type": "execute_result"
    },
    {
     "data": {
      "image/png": "[encoded data removed]",
      "text/plain": [
       "<Figure size 432x288 with 1 Axes>"
      ]
     },
     "metadata": {
      "needs_background": "light"
     },
     "output_type": "display_data"
    }
   ],
   "source": [
    "def color(y, color):\n",
    "    for i in range(size(y,0)):\n",
    "        if y[i,0] == 1:\n",
    "            color.append('green')\n",
    "        else:\n",
    "            color.append('blue')\n",
    "\n",
    "c = []\n",
    "\n",
    "        \n",
    "plt.scatter(X_test[:,0],X_test[:,1],c=color)"
   ]
  },
  {
   "cell_type": "code",
   "execution_count": 260,
   "metadata": {},
   "outputs": [
    {
     "data": {
      "text/plain": [
       "<function matplotlib.pyplot.legend(*args, **kwargs)>"
      ]
     },
     "execution_count": 260,
     "metadata": {},
     "output_type": "execute_result"
    },
    {
     "data": {
      "image/png": "[encoded data removed]",
      "text/plain": [
       "<Figure size 432x288 with 1 Axes>"
      ]
     },
     "metadata": {
      "needs_background": "light"
     },
     "output_type": "display_data"
    }
   ],
   "source": [
    "plt.scatter(X[:,0],X[:,1])\n",
    "#plt.plot(plot_x, plot_y, 'k-', label='Decision Boundary')\n",
    "plt.legend"
   ]
  },
  {
   "cell_type": "code",
   "execution_count": null,
   "metadata": {},
   "outputs": [],
   "source": []
  }
 ],
 "metadata": {
  "kernelspec": {
   "display_name": "Python 3",
   "language": "python",
   "name": "python3"
  },
  "language_info": {
   "codemirror_mode": {
    "name": "ipython",
    "version": 3
   },
   "file_extension": ".py",
   "mimetype": "text/x-python",
   "name": "python",
   "nbconvert_exporter": "python",
   "pygments_lexer": "ipython3",
   "version": "3.7.2"
  }
 },
 "nbformat": 4,
 "nbformat_minor": 2
}
