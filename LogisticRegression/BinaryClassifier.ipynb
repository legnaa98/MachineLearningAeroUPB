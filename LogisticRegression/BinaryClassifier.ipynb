{
 "cells": [
  {
   "cell_type": "markdown",
   "metadata": {},
   "source": [
    "# Logistic Regression"
   ]
  },
  {
   "cell_type": "code",
   "execution_count": 144,
   "metadata": {},
   "outputs": [],
   "source": [
    "%matplotlib inline\n",
    "\n",
    "import matplotlib.pyplot as plt\n",
    "from numpy import *\n",
    "import pandas as pd\n",
    "from sklearn.datasets.samples_generator import make_blobs"
   ]
  },
  {
   "cell_type": "markdown",
   "metadata": {},
   "source": [
    "## Import the Dataset"
   ]
  },
  {
   "cell_type": "code",
   "execution_count": 276,
   "metadata": {},
   "outputs": [
    {
     "data": {
      "image/png": "[encoded data removed]",
      "text/plain": [
       "<matplotlib.figure.Figure at 0x2e7f5667898>"
      ]
     },
     "metadata": {},
     "output_type": "display_data"
    }
   ],
   "source": [
    "X, y = make_blobs(n_samples=100, n_features=2, centers=2)\n",
    "\n",
    "# examine the data\n",
    "plt.scatter(X[:,0],X[:,1]) # plot the scatter\n",
    "X0 = ones([X.shape[0], 1]) # Create the bias vector X_0 feature (only ones)\n",
    "X = concatenate((X0, X), axis=1) # merge the ones vector with the rest of the features"
   ]
  },
  {
   "cell_type": "markdown",
   "metadata": {},
   "source": [
    "## Split the data into training and test set"
   ]
  },
  {
   "cell_type": "code",
   "execution_count": 277,
   "metadata": {},
   "outputs": [],
   "source": [
    "from sklearn.model_selection import train_test_split\n",
    "\n",
    "X_train, X_test, y_train, y_test = train_test_split(X, y, test_size=0.4,train_size=0.6)# split data into train and test sets\n",
    "\n",
    "m, n = shape(X_train) # extract the number of m samples and n features\n",
    "y_train.shape = (m,1) # adjust y_train dataset shape\n",
    "Niters = 100 # define max iterations number\n",
    "\n",
    "# randomely initialize theta\n",
    "theta = random.rand(n,1)"
   ]
  },
  {
   "cell_type": "markdown",
   "metadata": {},
   "source": [
    "## Define Sigmoid, cost and gradient functions"
   ]
  },
  {
   "cell_type": "code",
   "execution_count": 278,
   "metadata": {},
   "outputs": [],
   "source": [
    "def sigmoid(z):\n",
    "    \n",
    "    return( divide(1, 1 + power(e,-z)) )\n",
    "    \n",
    "def cost(X, y, theta, m, n, L):\n",
    "    ''' \n",
    "    X: features matrix\n",
    "    y: target vector\n",
    "    theta: parameters\n",
    "    m: number of samples\n",
    "    n: number of features\n",
    "    L: regularization parameter lambda\n",
    "    '''\n",
    "    \n",
    "    if size(X,1) == size(theta,0):\n",
    "        thetaTX = matmul(X, theta)\n",
    "    else:\n",
    "        X.shape = (m,n)\n",
    "        thetaTX = matmul(X, theta)\n",
    "        \n",
    "    h = sigmoid( thetaTX ) # compute the sigmoid function\n",
    "    \n",
    "    # compute cost function\n",
    "    if size(h,0) == size(y,0):\n",
    "        cost = -y*log(h)-(1-y)*log(1-h)\n",
    "        return( -1/m * sum(cost, axis=0) + L/(2*m) * sum(theta**2, axis=0), h)\n",
    "    else:\n",
    "        h.shape = (m,1)\n",
    "        cost = -y*log(h)-(1-y)*log(1-h)\n",
    "        return( -1/m * sum(cost, axis=0) + L/(2*m) * sum(theta**2, axis=0), h )\n",
    "        \n",
    "def gradient(X, y, theta, m, n, L, hyp):\n",
    "    \n",
    "    Q = subtract(hyp,y) # substitution for better comprehension\n",
    "    grad = 1/m * ( matmul(transpose(X), Q) ) + L/m * theta # compute the gradient for every theta parameter\n",
    "    grad[0,0] = 1/m * ( matmul(transpose(X[:,0]), Q) ) # except for the bias parameters theta[0] \n",
    "                                                       # corresponding to the feature\n",
    "    return( grad )\n",
    "\n",
    "def gradDescent(grad, theta_old, alpha, y):\n",
    "    '''\n",
    "    Perform gradient descent\n",
    "    grad: gradient vector corresponding to every parameter theta\n",
    "    theta_old: the theta parameter vector from the last iteration\n",
    "    alpha: learning rate, pre-defined parameter\n",
    "    y: y_train, for dimension purposes\n",
    "    '''\n",
    "    m, n =  shape(y)\n",
    "    \n",
    "    theta_new = subtract(theta_old, multiply(alpha,grad))\n",
    "    return(theta_new)"
   ]
  },
  {
   "cell_type": "markdown",
   "metadata": {},
   "source": [
    "## Execute functions in the desired order and apply regularization parameter $\\lambda$"
   ]
  },
  {
   "cell_type": "code",
   "execution_count": 279,
   "metadata": {},
   "outputs": [],
   "source": [
    "L = 0 # regularization parameter\n",
    "alpha = 0.01\n",
    "\n",
    "for n in range(Niters):\n",
    "    \n",
    "    J, hTheta = cost(X_train, y_train, theta, m, n, L)\n",
    "    grad = gradient(X_train, y_train, theta, m, n, L, hTheta)\n",
    "    theta = gradDescent(grad, theta, alpha, y_train)"
   ]
  },
  {
   "cell_type": "code",
   "execution_count": 280,
   "metadata": {
    "scrolled": true
   },
   "outputs": [
    {
     "name": "stdout",
     "output_type": "stream",
     "text": [
      "[[1 2]\n",
      " [3 4]\n",
      " [5 6]]\n",
      "[[10 11]]\n"
     ]
    },
    {
     "data": {
      "text/plain": [
       "array([[ 32],\n",
       "       [ 74],\n",
       "       [116]])"
      ]
     },
     "execution_count": 280,
     "metadata": {},
     "output_type": "execute_result"
    }
   ],
   "source": [
    "v = array([[1,2],[3,4],[5,6]])\n",
    "w = array([[10,11]])\n",
    "\n",
    "print(v)\n",
    "print(w)\n",
    "matmul(v,transpose(w))\n"
   ]
  },
  {
   "cell_type": "markdown",
   "metadata": {},
   "source": [
    "## Compute algorithm performance metrics"
   ]
  },
  {
   "cell_type": "code",
   "execution_count": 281,
   "metadata": {},
   "outputs": [],
   "source": [
    "def postproc(y_test, y_predict):\n",
    "    TP = 0\n",
    "    FP = 0\n",
    "    FN = 0\n",
    "    TN = 0\n",
    "    for i in range(size(y_test,0)):\n",
    "        if ( y_test[i] == 1) and (y_predict[i] == 1):\n",
    "            TP += 1\n",
    "        elif ( y_test[i] == 0) and (y_predict[i] == 1):\n",
    "            FP += 1\n",
    "        elif ( y_test[i] == 1) and (y_predict[i] == 0):\n",
    "            FN += 1\n",
    "        elif ( y_test[i] == 0) and (y_predict[i] == 0):\n",
    "            TN += 1\n",
    "    acc = (TP + TN) / size(y_test,0)\n",
    "    prec = TP / (TP + FP)\n",
    "    recall = (TP) / (TP + FN)\n",
    "    \n",
    "    return( acc, prec, recall, TP, FP, FN, TN )"
   ]
  },
  {
   "cell_type": "markdown",
   "metadata": {},
   "source": [
    "## Compute the predicted labels based on the generated model with the $\\theta$ parameters"
   ]
  },
  {
   "cell_type": "code",
   "execution_count": 282,
   "metadata": {},
   "outputs": [
    {
     "name": "stdout",
     "output_type": "stream",
     "text": [
      "Accuracy: \n",
      " 0.875\n",
      "Precision: \n",
      " 0.8947368421052632\n",
      "Recall: \n",
      " 0.85\n"
     ]
    }
   ],
   "source": [
    "y_predict = sigmoid(matmul(X_test, theta))\n",
    "\n",
    "for i in range(len(y_test)):\n",
    "    if y_predict[i] >= 0.5:\n",
    "        y_predict[i] = 1\n",
    "    else:\n",
    "        y_predict[i] = 0\n",
    "\n",
    "acc, prec, recall, TP, FP, FN, TN = postproc(y_test, y_predict)\n",
    "\n",
    "print('Accuracy: \\n', acc)\n",
    "print('Precision: \\n', prec)\n",
    "print('Recall: \\n', recall)"
   ]
  },
  {
   "cell_type": "markdown",
   "metadata": {},
   "source": [
    "## Plot the solution and Decision Boundary"
   ]
  },
  {
   "cell_type": "code",
   "execution_count": 283,
   "metadata": {},
   "outputs": [
    {
     "data": {
      "text/plain": [
       "<matplotlib.legend.Legend at 0x2e7f434e748>"
      ]
     },
     "execution_count": 283,
     "metadata": {},
     "output_type": "execute_result"
    },
    {
     "data": {
      "image/png": "[encoded data removed]",
      "text/plain": [
       "<matplotlib.figure.Figure at 0x2e7f4497f60>"
      ]
     },
     "metadata": {},
     "output_type": "display_data"
    }
   ],
   "source": [
    "def color(y):\n",
    "    colr = []\n",
    "    for i in range(size(y,0)):\n",
    "        if y[i,0] == 1:\n",
    "            colr.append('green')\n",
    "        else:\n",
    "            colr.append('blue')\n",
    "    return(colr)\n",
    "\n",
    "# getting the x co-ordinates of the decision boundary\n",
    "plot_x = array([min(X_test[:,1]), max(X_test[:,1])])\n",
    "# getting corresponding y co-ordinates of the decision boundary\n",
    "plot_y = (-1/theta[2]) * (theta[1] * plot_x + theta[0])\n",
    "\n",
    "        \n",
    "plt.scatter(X_test[:,1],X_test[:,2],c=color(y_predict))\n",
    "plt.plot(plot_x,plot_y,'r-',label='Decision Boundary')\n",
    "plt.xlim([min(X_test[:,1])-1,max(X_test[:,1])+1])\n",
    "plt.ylim([min(X_test[:,2])-1,max(X_test[:,2])+1])\n",
    "plt.xlabel('X1')\n",
    "plt.ylabel('X2')\n",
    "plt.legend()"
   ]
  },
  {
   "cell_type": "code",
   "execution_count": 284,
   "metadata": {},
   "outputs": [
    {
     "data": {
      "text/plain": [
       "<matplotlib.legend.Legend at 0x2e7f3ebf320>"
      ]
     },
     "execution_count": 284,
     "metadata": {},
     "output_type": "execute_result"
    },
    {
     "data": {
      "image/png": "[encoded data removed]",
      "text/plain": [
       "<matplotlib.figure.Figure at 0x2e7f55591d0>"
      ]
     },
     "metadata": {},
     "output_type": "display_data"
    }
   ],
   "source": [
    "plt.scatter(X_test[:,1],X_test[:,2],c=color(y_predict))\n",
    "\n",
    "plt.scatter(X_train[:,1], X_train[:,2], c=color(y_train))\n",
    "\n",
    "plt.plot(plot_x, plot_y, 'r-', label='Decision Boundary')\n",
    "plt.legend\n",
    "plt.ylim([min(X_test[:,2]) - 1, max(X_test[:,2] + 1)])\n",
    "plt.xlabel('X1')\n",
    "plt.ylabel('X2')\n",
    "plt.legend()"
   ]
  },
  {
   "cell_type": "code",
   "execution_count": null,
   "metadata": {},
   "outputs": [],
   "source": []
  }
 ],
 "metadata": {
  "kernelspec": {
   "display_name": "Python 3",
   "language": "python",
   "name": "python3"
  },
  "language_info": {
   "codemirror_mode": {
    "name": "ipython",
    "version": 3
   },
   "file_extension": ".py",
   "mimetype": "text/x-python",
   "name": "python",
   "nbconvert_exporter": "python",
   "pygments_lexer": "ipython3",
   "version": "3.6.6"
  }
 },
 "nbformat": 4,
 "nbformat_minor": 2
}
