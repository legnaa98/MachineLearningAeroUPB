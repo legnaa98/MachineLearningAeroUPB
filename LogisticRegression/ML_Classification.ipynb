{
 "cells": [
  {
   "cell_type": "markdown",
   "metadata": {},
   "source": [
    "# Classification\n",
    "One of the supervised learning problems in Machine Learning.\n",
    "The goal in classification is to predict a class label, chosen from predefined posibilities. Within classification problems we have **binary classification** and **multiclass classification**.\n",
    "<br>\n",
    "For regression tasks, the goal is to predict a continuous number, or a ﬂoating-point\n",
    "number in programming terms (or real number in mathematical terms).\n",
    "### Training/Validation/Test sets\n",
    "Generally, aiming to develop a model that applies to a variety of cases, it is needed to split the data into subsets. These are the **training set** and the **test set**, generally a **training set** accounts for **70%** of the data while the other **30%** **test set**. This is done with the purpose of having some labeled data to test the model on when it is finished to confirm predictive power of the model.\n",
    "<br>\n",
    "<br>\n",
    "When implementing **train/validation/test** sets, the splitting is usually done as **60% training set, 20% cross validation set (CV) and 20% test set** models are chosen aiming to minimize $J_{CV}(\\theta)$.\n",
    "\n",
    "## Logistic Regression\n",
    "We want a hypothesis such that $0\\leq h_{theta}(x)\\leq 1$, this can be achieved by defining a hypothesis function as:\n",
    "$$\n",
    "h_{\\theta}(x) = g(\\theta^{T}X) \\longrightarrow g(z) = \\frac{1}{1+e^{-\\theta^{T}X}}\n",
    "$$\n",
    "the latter function is known as the sigmoid function."
   ]
  },
  {
   "cell_type": "code",
   "execution_count": 2,
   "metadata": {},
   "outputs": [],
   "source": [
    "import numpy as np\n",
    "import matplotlib.pyplot as plt\n",
    "\n",
    "def sigmoid(z):\n",
    "    \n",
    "    g = 1/(1+np.e**-z)\n",
    "    return(g)"
   ]
  },
  {
   "cell_type": "code",
   "execution_count": 3,
   "metadata": {},
   "outputs": [
    {
     "data": {
      "text/plain": [
       "Text(0,0.5,'g(x)')"
      ]
     },
     "execution_count": 3,
     "metadata": {},
     "output_type": "execute_result"
    },
    {
     "data": {
      "image/png": "[encoded data removed]",
      "text/plain": [
       "<matplotlib.figure.Figure at 0x187a713fa90>"
      ]
     },
     "metadata": {},
     "output_type": "display_data"
    }
   ],
   "source": [
    "w = np.linspace(-9,9,70)\n",
    "plt.plot(w,sigmoid(w),'b-',linewidth=0.8)\n",
    "plt.title('Sigmoid Function')\n",
    "plt.xlabel('x')\n",
    "plt.ylabel('g(x)')"
   ]
  },
  {
   "cell_type": "markdown",
   "metadata": {},
   "source": [
    "$h_{\\theta}(x):$ Estimates the probability that $y=1$ on an input $x$, in other words:\n",
    "$$\n",
    "P(y=1\\,\\,|\\,\\,x;\\theta) \\leftarrow \\mbox{Probabilistic interpretation}\\\\\n",
    "P(y=1\\,\\,|\\,\\,x;\\theta) + P(y=0\\,\\,|\\,\\,x;\\theta) = 1\n",
    "$$\n",
    "## Decision Boundary\n",
    "It is the boudary that delimits the fact of a given input to belong to a certain class\n",
    "\n",
    "$$ g(z)\\geq 0, \\mbox{when } z\\geq 0 \\\\\n",
    "h_{\\theta} = g(\\theta^{T}X)\\,\\,\\mbox{when } \\theta^{T}X \\geq 0\\\\\n",
    "h_{\\theta} = g(\\theta^{T}X)\\,\\,\\mbox{when } \\theta^{T}X < 0\n",
    "$$\n"
   ]
  },
  {
   "cell_type": "code",
   "execution_count": null,
   "metadata": {},
   "outputs": [],
   "source": []
  }
 ],
 "metadata": {
  "kernelspec": {
   "display_name": "Python 3",
   "language": "python",
   "name": "python3"
  },
  "language_info": {
   "codemirror_mode": {
    "name": "ipython",
    "version": 3
   },
   "file_extension": ".py",
   "mimetype": "text/x-python",
   "name": "python",
   "nbconvert_exporter": "python",
   "pygments_lexer": "ipython3",
   "version": "3.6.6"
  }
 },
 "nbformat": 4,
 "nbformat_minor": 2
}
